{
  "cells": [
    {
      "cell_type": "code",
      "execution_count": null,
      "metadata": {
        "id": "NZ51S8-ALgrz"
      },
      "outputs": [],
      "source": [
        "import os\n",
        "from sklearn.preprocessing import MinMaxScaler\n",
        "from tensorflow.keras.models import Sequential\n",
        "from tensorflow.keras.layers import Dense,SimpleRNN\n",
        "from keras.preprocessing.sequence import TimeseriesGenerator\n",
        "import pandas as pd\n",
        "import numpy as np\n",
        "import matplotlib.pyplot as plt"
      ]
    },
    {
      "cell_type": "code",
      "execution_count": null,
      "metadata": {
        "colab": {
          "base_uri": "https://localhost:8080/",
          "height": 455
        },
        "id": "d7IOkTpP1zn5",
        "outputId": "6bd7c7d0-c06f-4560-f2e7-be8ab3399459"
      },
      "outputs": [
        {
          "data": {
            "application/vnd.google.colaboratory.intrinsic+json": {
              "summary": "{\n  \"name\": \"data\",\n  \"rows\": 169,\n  \"fields\": [\n    {\n      \"column\": \"Month\",\n      \"properties\": {\n        \"dtype\": \"string\",\n        \"num_unique_values\": 169,\n        \"samples\": [\n          \"1973-07\",\n          \"1964-07\",\n          \"1971-12\"\n        ],\n        \"semantic_type\": \"\",\n        \"description\": \"\"\n      }\n    },\n    {\n      \"column\": \"Monthly milk production: pounds per cow. Jan 62 ? Dec 75\",\n      \"properties\": {\n        \"dtype\": \"number\",\n        \"std\": 102.20452397305553,\n        \"min\": 553.0,\n        \"max\": 969.0,\n        \"num_unique_values\": 142,\n        \"samples\": [\n          815.0,\n          583.0,\n          764.0\n        ],\n        \"semantic_type\": \"\",\n        \"description\": \"\"\n      }\n    }\n  ]\n}",
              "type": "dataframe",
              "variable_name": "data"
            },
            "text/html": [
              "\n",
              "  <div id=\"df-445c9cdb-5bc6-420d-a668-bfa6df75c406\" class=\"colab-df-container\">\n",
              "    <div>\n",
              "<style scoped>\n",
              "    .dataframe tbody tr th:only-of-type {\n",
              "        vertical-align: middle;\n",
              "    }\n",
              "\n",
              "    .dataframe tbody tr th {\n",
              "        vertical-align: top;\n",
              "    }\n",
              "\n",
              "    .dataframe thead th {\n",
              "        text-align: right;\n",
              "    }\n",
              "</style>\n",
              "<table border=\"1\" class=\"dataframe\">\n",
              "  <thead>\n",
              "    <tr style=\"text-align: right;\">\n",
              "      <th></th>\n",
              "      <th>Monthly milk production: pounds per cow. Jan 62 ? Dec 75</th>\n",
              "    </tr>\n",
              "    <tr>\n",
              "      <th>Month</th>\n",
              "      <th></th>\n",
              "    </tr>\n",
              "  </thead>\n",
              "  <tbody>\n",
              "    <tr>\n",
              "      <th>1962-01</th>\n",
              "      <td>589.0</td>\n",
              "    </tr>\n",
              "    <tr>\n",
              "      <th>1962-02</th>\n",
              "      <td>561.0</td>\n",
              "    </tr>\n",
              "    <tr>\n",
              "      <th>1962-03</th>\n",
              "      <td>640.0</td>\n",
              "    </tr>\n",
              "    <tr>\n",
              "      <th>1962-04</th>\n",
              "      <td>656.0</td>\n",
              "    </tr>\n",
              "    <tr>\n",
              "      <th>1962-05</th>\n",
              "      <td>727.0</td>\n",
              "    </tr>\n",
              "    <tr>\n",
              "      <th>...</th>\n",
              "      <td>...</td>\n",
              "    </tr>\n",
              "    <tr>\n",
              "      <th>1975-09</th>\n",
              "      <td>817.0</td>\n",
              "    </tr>\n",
              "    <tr>\n",
              "      <th>1975-10</th>\n",
              "      <td>827.0</td>\n",
              "    </tr>\n",
              "    <tr>\n",
              "      <th>1975-11</th>\n",
              "      <td>797.0</td>\n",
              "    </tr>\n",
              "    <tr>\n",
              "      <th>1975-12</th>\n",
              "      <td>843.0</td>\n",
              "    </tr>\n",
              "    <tr>\n",
              "      <th>Monthly milk production: pounds per cow. Jan 62 ? Dec 75</th>\n",
              "      <td>NaN</td>\n",
              "    </tr>\n",
              "  </tbody>\n",
              "</table>\n",
              "<p>169 rows × 1 columns</p>\n",
              "</div>\n",
              "    <div class=\"colab-df-buttons\">\n",
              "\n",
              "  <div class=\"colab-df-container\">\n",
              "    <button class=\"colab-df-convert\" onclick=\"convertToInteractive('df-445c9cdb-5bc6-420d-a668-bfa6df75c406')\"\n",
              "            title=\"Convert this dataframe to an interactive table.\"\n",
              "            style=\"display:none;\">\n",
              "\n",
              "  <svg xmlns=\"http://www.w3.org/2000/svg\" height=\"24px\" viewBox=\"0 -960 960 960\">\n",
              "    <path d=\"M120-120v-720h720v720H120Zm60-500h600v-160H180v160Zm220 220h160v-160H400v160Zm0 220h160v-160H400v160ZM180-400h160v-160H180v160Zm440 0h160v-160H620v160ZM180-180h160v-160H180v160Zm440 0h160v-160H620v160Z\"/>\n",
              "  </svg>\n",
              "    </button>\n",
              "\n",
              "  <style>\n",
              "    .colab-df-container {\n",
              "      display:flex;\n",
              "      gap: 12px;\n",
              "    }\n",
              "\n",
              "    .colab-df-convert {\n",
              "      background-color: #E8F0FE;\n",
              "      border: none;\n",
              "      border-radius: 50%;\n",
              "      cursor: pointer;\n",
              "      display: none;\n",
              "      fill: #1967D2;\n",
              "      height: 32px;\n",
              "      padding: 0 0 0 0;\n",
              "      width: 32px;\n",
              "    }\n",
              "\n",
              "    .colab-df-convert:hover {\n",
              "      background-color: #E2EBFA;\n",
              "      box-shadow: 0px 1px 2px rgba(60, 64, 67, 0.3), 0px 1px 3px 1px rgba(60, 64, 67, 0.15);\n",
              "      fill: #174EA6;\n",
              "    }\n",
              "\n",
              "    .colab-df-buttons div {\n",
              "      margin-bottom: 4px;\n",
              "    }\n",
              "\n",
              "    [theme=dark] .colab-df-convert {\n",
              "      background-color: #3B4455;\n",
              "      fill: #D2E3FC;\n",
              "    }\n",
              "\n",
              "    [theme=dark] .colab-df-convert:hover {\n",
              "      background-color: #434B5C;\n",
              "      box-shadow: 0px 1px 3px 1px rgba(0, 0, 0, 0.15);\n",
              "      filter: drop-shadow(0px 1px 2px rgba(0, 0, 0, 0.3));\n",
              "      fill: #FFFFFF;\n",
              "    }\n",
              "  </style>\n",
              "\n",
              "    <script>\n",
              "      const buttonEl =\n",
              "        document.querySelector('#df-445c9cdb-5bc6-420d-a668-bfa6df75c406 button.colab-df-convert');\n",
              "      buttonEl.style.display =\n",
              "        google.colab.kernel.accessAllowed ? 'block' : 'none';\n",
              "\n",
              "      async function convertToInteractive(key) {\n",
              "        const element = document.querySelector('#df-445c9cdb-5bc6-420d-a668-bfa6df75c406');\n",
              "        const dataTable =\n",
              "          await google.colab.kernel.invokeFunction('convertToInteractive',\n",
              "                                                    [key], {});\n",
              "        if (!dataTable) return;\n",
              "\n",
              "        const docLinkHtml = 'Like what you see? Visit the ' +\n",
              "          '<a target=\"_blank\" href=https://colab.research.google.com/notebooks/data_table.ipynb>data table notebook</a>'\n",
              "          + ' to learn more about interactive tables.';\n",
              "        element.innerHTML = '';\n",
              "        dataTable['output_type'] = 'display_data';\n",
              "        await google.colab.output.renderOutput(dataTable, element);\n",
              "        const docLink = document.createElement('div');\n",
              "        docLink.innerHTML = docLinkHtml;\n",
              "        element.appendChild(docLink);\n",
              "      }\n",
              "    </script>\n",
              "  </div>\n",
              "\n",
              "\n",
              "<div id=\"df-ceece57c-5b21-458a-93d3-7393f52103c9\">\n",
              "  <button class=\"colab-df-quickchart\" onclick=\"quickchart('df-ceece57c-5b21-458a-93d3-7393f52103c9')\"\n",
              "            title=\"Suggest charts\"\n",
              "            style=\"display:none;\">\n",
              "\n",
              "<svg xmlns=\"http://www.w3.org/2000/svg\" height=\"24px\"viewBox=\"0 0 24 24\"\n",
              "     width=\"24px\">\n",
              "    <g>\n",
              "        <path d=\"M19 3H5c-1.1 0-2 .9-2 2v14c0 1.1.9 2 2 2h14c1.1 0 2-.9 2-2V5c0-1.1-.9-2-2-2zM9 17H7v-7h2v7zm4 0h-2V7h2v10zm4 0h-2v-4h2v4z\"/>\n",
              "    </g>\n",
              "</svg>\n",
              "  </button>\n",
              "\n",
              "<style>\n",
              "  .colab-df-quickchart {\n",
              "      --bg-color: #E8F0FE;\n",
              "      --fill-color: #1967D2;\n",
              "      --hover-bg-color: #E2EBFA;\n",
              "      --hover-fill-color: #174EA6;\n",
              "      --disabled-fill-color: #AAA;\n",
              "      --disabled-bg-color: #DDD;\n",
              "  }\n",
              "\n",
              "  [theme=dark] .colab-df-quickchart {\n",
              "      --bg-color: #3B4455;\n",
              "      --fill-color: #D2E3FC;\n",
              "      --hover-bg-color: #434B5C;\n",
              "      --hover-fill-color: #FFFFFF;\n",
              "      --disabled-bg-color: #3B4455;\n",
              "      --disabled-fill-color: #666;\n",
              "  }\n",
              "\n",
              "  .colab-df-quickchart {\n",
              "    background-color: var(--bg-color);\n",
              "    border: none;\n",
              "    border-radius: 50%;\n",
              "    cursor: pointer;\n",
              "    display: none;\n",
              "    fill: var(--fill-color);\n",
              "    height: 32px;\n",
              "    padding: 0;\n",
              "    width: 32px;\n",
              "  }\n",
              "\n",
              "  .colab-df-quickchart:hover {\n",
              "    background-color: var(--hover-bg-color);\n",
              "    box-shadow: 0 1px 2px rgba(60, 64, 67, 0.3), 0 1px 3px 1px rgba(60, 64, 67, 0.15);\n",
              "    fill: var(--button-hover-fill-color);\n",
              "  }\n",
              "\n",
              "  .colab-df-quickchart-complete:disabled,\n",
              "  .colab-df-quickchart-complete:disabled:hover {\n",
              "    background-color: var(--disabled-bg-color);\n",
              "    fill: var(--disabled-fill-color);\n",
              "    box-shadow: none;\n",
              "  }\n",
              "\n",
              "  .colab-df-spinner {\n",
              "    border: 2px solid var(--fill-color);\n",
              "    border-color: transparent;\n",
              "    border-bottom-color: var(--fill-color);\n",
              "    animation:\n",
              "      spin 1s steps(1) infinite;\n",
              "  }\n",
              "\n",
              "  @keyframes spin {\n",
              "    0% {\n",
              "      border-color: transparent;\n",
              "      border-bottom-color: var(--fill-color);\n",
              "      border-left-color: var(--fill-color);\n",
              "    }\n",
              "    20% {\n",
              "      border-color: transparent;\n",
              "      border-left-color: var(--fill-color);\n",
              "      border-top-color: var(--fill-color);\n",
              "    }\n",
              "    30% {\n",
              "      border-color: transparent;\n",
              "      border-left-color: var(--fill-color);\n",
              "      border-top-color: var(--fill-color);\n",
              "      border-right-color: var(--fill-color);\n",
              "    }\n",
              "    40% {\n",
              "      border-color: transparent;\n",
              "      border-right-color: var(--fill-color);\n",
              "      border-top-color: var(--fill-color);\n",
              "    }\n",
              "    60% {\n",
              "      border-color: transparent;\n",
              "      border-right-color: var(--fill-color);\n",
              "    }\n",
              "    80% {\n",
              "      border-color: transparent;\n",
              "      border-right-color: var(--fill-color);\n",
              "      border-bottom-color: var(--fill-color);\n",
              "    }\n",
              "    90% {\n",
              "      border-color: transparent;\n",
              "      border-bottom-color: var(--fill-color);\n",
              "    }\n",
              "  }\n",
              "</style>\n",
              "\n",
              "  <script>\n",
              "    async function quickchart(key) {\n",
              "      const quickchartButtonEl =\n",
              "        document.querySelector('#' + key + ' button');\n",
              "      quickchartButtonEl.disabled = true;  // To prevent multiple clicks.\n",
              "      quickchartButtonEl.classList.add('colab-df-spinner');\n",
              "      try {\n",
              "        const charts = await google.colab.kernel.invokeFunction(\n",
              "            'suggestCharts', [key], {});\n",
              "      } catch (error) {\n",
              "        console.error('Error during call to suggestCharts:', error);\n",
              "      }\n",
              "      quickchartButtonEl.classList.remove('colab-df-spinner');\n",
              "      quickchartButtonEl.classList.add('colab-df-quickchart-complete');\n",
              "    }\n",
              "    (() => {\n",
              "      let quickchartButtonEl =\n",
              "        document.querySelector('#df-ceece57c-5b21-458a-93d3-7393f52103c9 button');\n",
              "      quickchartButtonEl.style.display =\n",
              "        google.colab.kernel.accessAllowed ? 'block' : 'none';\n",
              "    })();\n",
              "  </script>\n",
              "</div>\n",
              "\n",
              "  <div id=\"id_6ef5a611-2a0b-4def-8433-bc32955d5b3f\">\n",
              "    <style>\n",
              "      .colab-df-generate {\n",
              "        background-color: #E8F0FE;\n",
              "        border: none;\n",
              "        border-radius: 50%;\n",
              "        cursor: pointer;\n",
              "        display: none;\n",
              "        fill: #1967D2;\n",
              "        height: 32px;\n",
              "        padding: 0 0 0 0;\n",
              "        width: 32px;\n",
              "      }\n",
              "\n",
              "      .colab-df-generate:hover {\n",
              "        background-color: #E2EBFA;\n",
              "        box-shadow: 0px 1px 2px rgba(60, 64, 67, 0.3), 0px 1px 3px 1px rgba(60, 64, 67, 0.15);\n",
              "        fill: #174EA6;\n",
              "      }\n",
              "\n",
              "      [theme=dark] .colab-df-generate {\n",
              "        background-color: #3B4455;\n",
              "        fill: #D2E3FC;\n",
              "      }\n",
              "\n",
              "      [theme=dark] .colab-df-generate:hover {\n",
              "        background-color: #434B5C;\n",
              "        box-shadow: 0px 1px 3px 1px rgba(0, 0, 0, 0.15);\n",
              "        filter: drop-shadow(0px 1px 2px rgba(0, 0, 0, 0.3));\n",
              "        fill: #FFFFFF;\n",
              "      }\n",
              "    </style>\n",
              "    <button class=\"colab-df-generate\" onclick=\"generateWithVariable('data')\"\n",
              "            title=\"Generate code using this dataframe.\"\n",
              "            style=\"display:none;\">\n",
              "\n",
              "  <svg xmlns=\"http://www.w3.org/2000/svg\" height=\"24px\"viewBox=\"0 0 24 24\"\n",
              "       width=\"24px\">\n",
              "    <path d=\"M7,19H8.4L18.45,9,17,7.55,7,17.6ZM5,21V16.75L18.45,3.32a2,2,0,0,1,2.83,0l1.4,1.43a1.91,1.91,0,0,1,.58,1.4,1.91,1.91,0,0,1-.58,1.4L9.25,21ZM18.45,9,17,7.55Zm-12,3A5.31,5.31,0,0,0,4.9,8.1,5.31,5.31,0,0,0,1,6.5,5.31,5.31,0,0,0,4.9,4.9,5.31,5.31,0,0,0,6.5,1,5.31,5.31,0,0,0,8.1,4.9,5.31,5.31,0,0,0,12,6.5,5.46,5.46,0,0,0,6.5,12Z\"/>\n",
              "  </svg>\n",
              "    </button>\n",
              "    <script>\n",
              "      (() => {\n",
              "      const buttonEl =\n",
              "        document.querySelector('#id_6ef5a611-2a0b-4def-8433-bc32955d5b3f button.colab-df-generate');\n",
              "      buttonEl.style.display =\n",
              "        google.colab.kernel.accessAllowed ? 'block' : 'none';\n",
              "\n",
              "      buttonEl.onclick = () => {\n",
              "        google.colab.notebook.generateWithVariable('data');\n",
              "      }\n",
              "      })();\n",
              "    </script>\n",
              "  </div>\n",
              "\n",
              "    </div>\n",
              "  </div>\n"
            ],
            "text/plain": [
              "                                                    Monthly milk production: pounds per cow. Jan 62 ? Dec 75\n",
              "Month                                                                                                       \n",
              "1962-01                                                                                         589.0       \n",
              "1962-02                                                                                         561.0       \n",
              "1962-03                                                                                         640.0       \n",
              "1962-04                                                                                         656.0       \n",
              "1962-05                                                                                         727.0       \n",
              "...                                                                                               ...       \n",
              "1975-09                                                                                         817.0       \n",
              "1975-10                                                                                         827.0       \n",
              "1975-11                                                                                         797.0       \n",
              "1975-12                                                                                         843.0       \n",
              "Monthly milk production: pounds per cow. Jan 62...                                                NaN       \n",
              "\n",
              "[169 rows x 1 columns]"
            ]
          },
          "execution_count": 27,
          "metadata": {},
          "output_type": "execute_result"
        }
      ],
      "source": [
        "data=pd.read_csv('/content/monthly-milk-production-pounds.csv',index_col='Month',parse_dates=True)\n",
        "data"
      ]
    },
    {
      "cell_type": "code",
      "execution_count": null,
      "metadata": {
        "colab": {
          "base_uri": "https://localhost:8080/",
          "height": 448
        },
        "id": "yXGRmshh2Mi-",
        "outputId": "ca19bd84-6308-41d7-a198-b352e4d9a3c1"
      },
      "outputs": [
        {
          "data": {
            "text/plain": [
              "[<matplotlib.lines.Line2D at 0x7cb1342159c0>]"
            ]
          },
          "execution_count": 28,
          "metadata": {},
          "output_type": "execute_result"
        },
        {
          "data": {
            "image/png": "[encoded data removed]",
            "text/plain": [
              "<Figure size 640x480 with 1 Axes>"
            ]
          },
          "metadata": {},
          "output_type": "display_data"
        }
      ],
      "source": [
        "plt.plot(data)"
      ]
    },
    {
      "cell_type": "code",
      "execution_count": null,
      "metadata": {
        "id": "L-MdADJQ4lKc"
      },
      "outputs": [],
      "source": [
        "traindata=data[:84]\n",
        "testdata=data[84:]"
      ]
    },
    {
      "cell_type": "code",
      "execution_count": null,
      "metadata": {
        "id": "WrcR_WPT34fO"
      },
      "outputs": [],
      "source": [
        "scalar=MinMaxScaler()\n",
        "scaledtraindata=scalar.fit_transform(traindata)\n",
        "scaledtestdata=scalar.fit_transform(testdata)"
      ]
    },
    {
      "cell_type": "code",
      "execution_count": null,
      "metadata": {
        "id": "ZuIrJKCg45fl"
      },
      "outputs": [],
      "source": [
        "n_inputs=12\n",
        "n_features=1\n",
        "generator=TimeseriesGenerator(scaledtraindata,scaledtraindata,length=12,batch_size=1)"
      ]
    },
    {
      "cell_type": "code",
      "execution_count": null,
      "metadata": {
        "colab": {
          "base_uri": "https://localhost:8080/"
        },
        "id": "hucVnm865NM0",
        "outputId": "dbd399f7-a634-4eaa-dee8-fd1db69d7d10"
      },
      "outputs": [
        {
          "output_type": "stream",
          "name": "stdout",
          "text": [
            "[0.11803279 0.02622951 0.2852459  0.33770492 0.5704918  0.47213115\n",
            " 0.2852459  0.15081967 0.04918033 0.07868852 0.         0.09508197] [[0.15409836]]\n"
          ]
        }
      ],
      "source": [
        "x,y=generator[0]\n",
        "print(x.flatten(),y)"
      ]
    },
    {
      "cell_type": "code",
      "execution_count": null,
      "metadata": {
        "id": "i8M8S1yr5XV0",
        "colab": {
          "base_uri": "https://localhost:8080/"
        },
        "outputId": "98c903dc-7a39-4b73-e8f6-902b18f4ce51"
      },
      "outputs": [
        {
          "output_type": "stream",
          "name": "stdout",
          "text": [
            "[0.02622951 0.2852459  0.33770492 0.5704918  0.47213115 0.2852459\n",
            " 0.15081967 0.04918033 0.07868852 0.         0.09508197 0.15409836] [[0.04262295]]\n"
          ]
        }
      ],
      "source": [
        "x,y=generator[1]\n",
        "print(x.flatten(),y)"
      ]
    },
    {
      "cell_type": "code",
      "execution_count": null,
      "metadata": {
        "colab": {
          "base_uri": "https://localhost:8080/"
        },
        "id": "r5Iaq28P5fHt",
        "outputId": "9500e9d2-b4f9-437f-977a-e8e3657f3c94"
      },
      "outputs": [
        {
          "output_type": "stream",
          "name": "stdout",
          "text": [
            "[0.2852459  0.33770492 0.5704918  0.47213115 0.2852459  0.15081967\n",
            " 0.04918033 0.07868852 0.         0.09508197 0.15409836 0.04262295] [[0.32786885]]\n"
          ]
        }
      ],
      "source": [
        "x,y=generator[2]\n",
        "print(x.flatten(),y)"
      ]
    },
    {
      "cell_type": "code",
      "execution_count": null,
      "metadata": {
        "id": "YtxJY8AR5w6V"
      },
      "outputs": [],
      "source": [
        "model=Sequential()\n",
        "model.add(SimpleRNN(100,activation='relu',input_shape=(12,1)))\n",
        "model.add(Dense(1,activation='tanh'))"
      ]
    },
    {
      "cell_type": "code",
      "execution_count": null,
      "metadata": {
        "colab": {
          "base_uri": "https://localhost:8080/"
        },
        "id": "4JC3HQlM6AvO",
        "outputId": "65885360-a4dd-4072-f9f1-0a9d9db98a58"
      },
      "outputs": [
        {
          "output_type": "stream",
          "name": "stdout",
          "text": [
            "Model: \"sequential_3\"\n",
            "_________________________________________________________________\n",
            " Layer (type)                Output Shape              Param #   \n",
            "=================================================================\n",
            " simple_rnn_3 (SimpleRNN)    (None, 100)               10200     \n",
            "                                                                 \n",
            " dense_3 (Dense)             (None, 1)                 101       \n",
            "                                                                 \n",
            "=================================================================\n",
            "Total params: 10301 (40.24 KB)\n",
            "Trainable params: 10301 (40.24 KB)\n",
            "Non-trainable params: 0 (0.00 Byte)\n",
            "_________________________________________________________________\n"
          ]
        }
      ],
      "source": [
        "model.compile(optimizer='adam',loss='mse')\n",
        "model.summary()"
      ]
    },
    {
      "cell_type": "code",
      "execution_count": null,
      "metadata": {
        "colab": {
          "base_uri": "https://localhost:8080/"
        },
        "id": "_Ks5n-Ml645F",
        "outputId": "4e6677ba-4bf0-448f-842f-f0de62500093"
      },
      "outputs": [
        {
          "output_type": "stream",
          "name": "stdout",
          "text": [
            "Epoch 1/20\n",
            "72/72 [==============================] - 1s 3ms/step - loss: 0.0467\n",
            "Epoch 2/20\n",
            "72/72 [==============================] - 0s 3ms/step - loss: 0.0177\n",
            "Epoch 3/20\n",
            "72/72 [==============================] - 0s 3ms/step - loss: 0.0105\n",
            "Epoch 4/20\n",
            "72/72 [==============================] - 0s 3ms/step - loss: 0.0066\n",
            "Epoch 5/20\n",
            "72/72 [==============================] - 0s 3ms/step - loss: 0.0077\n",
            "Epoch 6/20\n",
            "72/72 [==============================] - 0s 3ms/step - loss: 0.0054\n",
            "Epoch 7/20\n",
            "72/72 [==============================] - 0s 3ms/step - loss: 0.0045\n",
            "Epoch 8/20\n",
            "72/72 [==============================] - 0s 3ms/step - loss: 0.0037\n",
            "Epoch 9/20\n",
            "72/72 [==============================] - 0s 3ms/step - loss: 0.0028\n",
            "Epoch 10/20\n",
            "72/72 [==============================] - 0s 3ms/step - loss: 0.0046\n",
            "Epoch 11/20\n",
            "72/72 [==============================] - 0s 3ms/step - loss: 0.0035\n",
            "Epoch 12/20\n",
            "72/72 [==============================] - 0s 3ms/step - loss: 0.0027\n",
            "Epoch 13/20\n",
            "72/72 [==============================] - 0s 3ms/step - loss: 0.0025\n",
            "Epoch 14/20\n",
            "72/72 [==============================] - 0s 3ms/step - loss: 0.0028\n",
            "Epoch 15/20\n",
            "72/72 [==============================] - 0s 5ms/step - loss: 0.0023\n",
            "Epoch 16/20\n",
            "72/72 [==============================] - 0s 5ms/step - loss: 0.0025\n",
            "Epoch 17/20\n",
            "72/72 [==============================] - 0s 5ms/step - loss: 0.0038\n",
            "Epoch 18/20\n",
            "72/72 [==============================] - 0s 6ms/step - loss: 0.0024\n",
            "Epoch 19/20\n",
            "72/72 [==============================] - 0s 5ms/step - loss: 0.0022\n",
            "Epoch 20/20\n",
            "72/72 [==============================] - 0s 3ms/step - loss: 0.0028\n"
          ]
        }
      ],
      "source": [
        "Trained_history=model.fit(generator,epochs=20)"
      ]
    },
    {
      "cell_type": "code",
      "execution_count": null,
      "metadata": {
        "colab": {
          "base_uri": "https://localhost:8080/"
        },
        "id": "G4UtcZ1a7CWE",
        "outputId": "21375404-5df3-4c86-b7d2-b3d0c756d2c3"
      },
      "outputs": [
        {
          "output_type": "execute_result",
          "data": {
            "text/plain": [
              "dict_keys(['loss'])"
            ]
          },
          "metadata": {},
          "execution_count": 63
        }
      ],
      "source": [
        "hist=Trained_history.history\n",
        "hist.keys()"
      ]
    },
    {
      "cell_type": "code",
      "execution_count": null,
      "metadata": {
        "colab": {
          "base_uri": "https://localhost:8080/",
          "height": 448
        },
        "id": "xZabF61b7UhE",
        "outputId": "ddb13a87-9d5d-45c7-f0f3-91158eed2938"
      },
      "outputs": [
        {
          "output_type": "execute_result",
          "data": {
            "text/plain": [
              "[<matplotlib.lines.Line2D at 0x7cb1265ab0d0>]"
            ]
          },
          "metadata": {},
          "execution_count": 64
        },
        {
          "output_type": "display_data",
          "data": {
            "text/plain": [
              "<Figure size 640x480 with 1 Axes>"
            ],
            "image/png": "[encoded data removed]"
          },
          "metadata": {}
        }
      ],
      "source": [
        "loss=model.history.history['loss']\n",
        "plt.plot(range(len(loss)),loss)"
      ]
    },
    {
      "cell_type": "code",
      "execution_count": null,
      "metadata": {
        "colab": {
          "base_uri": "https://localhost:8080/"
        },
        "id": "f2mPzhBg7f8s",
        "outputId": "3c8ce973-6226-4191-9bcb-22ca350fcabc"
      },
      "outputs": [
        {
          "output_type": "stream",
          "name": "stdout",
          "text": [
            "1/1 [==============================] - 0s 18ms/step\n",
            "[0.5346941]\n",
            "1/1 [==============================] - 0s 18ms/step\n",
            "[0.46933684]\n",
            "1/1 [==============================] - 0s 19ms/step\n",
            "[0.68995434]\n",
            "1/1 [==============================] - 0s 22ms/step\n",
            "[0.78718555]\n",
            "1/1 [==============================] - 0s 22ms/step\n",
            "[0.88366145]\n",
            "1/1 [==============================] - 0s 23ms/step\n",
            "[0.8846887]\n",
            "1/1 [==============================] - 0s 23ms/step\n",
            "[0.8039005]\n",
            "1/1 [==============================] - 0s 23ms/step\n",
            "[0.6610097]\n",
            "1/1 [==============================] - 0s 26ms/step\n",
            "[0.5610105]\n",
            "1/1 [==============================] - 0s 19ms/step\n",
            "[0.51487786]\n",
            "1/1 [==============================] - 0s 19ms/step\n",
            "[0.4518157]\n",
            "1/1 [==============================] - 0s 19ms/step\n",
            "[0.4707505]\n",
            "1/1 [==============================] - 0s 19ms/step\n",
            "[0.49980605]\n",
            "1/1 [==============================] - 0s 20ms/step\n",
            "[0.4745746]\n",
            "1/1 [==============================] - 0s 23ms/step\n",
            "[0.62581086]\n",
            "1/1 [==============================] - 0s 21ms/step\n",
            "[0.75604373]\n",
            "1/1 [==============================] - 0s 23ms/step\n",
            "[0.8482653]\n",
            "1/1 [==============================] - 0s 21ms/step\n",
            "[0.8805851]\n",
            "1/1 [==============================] - 0s 21ms/step\n",
            "[0.8416085]\n",
            "1/1 [==============================] - 0s 28ms/step\n",
            "[0.7181246]\n",
            "1/1 [==============================] - 0s 32ms/step\n",
            "[0.6129952]\n",
            "1/1 [==============================] - 0s 35ms/step\n",
            "[0.5521705]\n",
            "1/1 [==============================] - 0s 37ms/step\n",
            "[0.48956162]\n",
            "1/1 [==============================] - 0s 35ms/step\n",
            "[0.46545845]\n",
            "1/1 [==============================] - 0s 29ms/step\n",
            "[0.48108944]\n",
            "1/1 [==============================] - 0s 27ms/step\n",
            "[0.4740521]\n",
            "1/1 [==============================] - 0s 27ms/step\n",
            "[0.5412024]\n",
            "1/1 [==============================] - 0s 31ms/step\n",
            "[0.7040662]\n",
            "1/1 [==============================] - 0s 29ms/step\n",
            "[0.81310296]\n",
            "1/1 [==============================] - 0s 30ms/step\n",
            "[0.86825895]\n",
            "1/1 [==============================] - 0s 31ms/step\n",
            "[0.8660735]\n",
            "1/1 [==============================] - 0s 28ms/step\n",
            "[0.7796846]\n",
            "1/1 [==============================] - 0s 34ms/step\n",
            "[0.6613884]\n",
            "1/1 [==============================] - 0s 33ms/step\n",
            "[0.588043]\n",
            "1/1 [==============================] - 0s 38ms/step\n",
            "[0.5259105]\n",
            "1/1 [==============================] - 0s 31ms/step\n",
            "[0.48455954]\n",
            "1/1 [==============================] - 0s 37ms/step\n",
            "[0.47198024]\n",
            "1/1 [==============================] - 0s 37ms/step\n",
            "[0.47841662]\n",
            "1/1 [==============================] - 0s 37ms/step\n",
            "[0.48937002]\n",
            "1/1 [==============================] - 0s 33ms/step\n",
            "[0.63365614]\n",
            "1/1 [==============================] - 0s 47ms/step\n",
            "[0.77036846]\n",
            "1/1 [==============================] - 0s 35ms/step\n",
            "[0.8466696]\n",
            "1/1 [==============================] - 0s 37ms/step\n",
            "[0.8749866]\n",
            "1/1 [==============================] - 0s 31ms/step\n",
            "[0.8292354]\n",
            "1/1 [==============================] - 0s 43ms/step\n",
            "[0.7175113]\n",
            "1/1 [==============================] - 0s 35ms/step\n",
            "[0.6245414]\n",
            "1/1 [==============================] - 0s 39ms/step\n",
            "[0.56126994]\n",
            "1/1 [==============================] - 0s 35ms/step\n",
            "[0.5067014]\n",
            "1/1 [==============================] - 0s 20ms/step\n",
            "[0.47449213]\n",
            "1/1 [==============================] - 0s 19ms/step\n",
            "[0.4784418]\n",
            "1/1 [==============================] - 0s 29ms/step\n",
            "[0.47484958]\n",
            "1/1 [==============================] - 0s 24ms/step\n",
            "[0.5466244]\n",
            "1/1 [==============================] - 0s 19ms/step\n",
            "[0.711929]\n",
            "1/1 [==============================] - 0s 22ms/step\n",
            "[0.8134463]\n",
            "1/1 [==============================] - 0s 23ms/step\n",
            "[0.8670856]\n",
            "1/1 [==============================] - 0s 23ms/step\n",
            "[0.86134315]\n",
            "1/1 [==============================] - 0s 20ms/step\n",
            "[0.7787778]\n",
            "1/1 [==============================] - 0s 19ms/step\n",
            "[0.66823184]\n",
            "1/1 [==============================] - 0s 19ms/step\n",
            "[0.59536165]\n",
            "1/1 [==============================] - 0s 22ms/step\n",
            "[0.5349027]\n",
            "1/1 [==============================] - 0s 20ms/step\n",
            "[0.49276197]\n",
            "1/1 [==============================] - 0s 20ms/step\n",
            "[0.47443804]\n",
            "1/1 [==============================] - 0s 23ms/step\n",
            "[0.4777832]\n",
            "1/1 [==============================] - 0s 24ms/step\n",
            "[0.49072084]\n",
            "1/1 [==============================] - 0s 20ms/step\n",
            "[0.63802314]\n",
            "1/1 [==============================] - 0s 20ms/step\n",
            "[0.769476]\n",
            "1/1 [==============================] - 0s 19ms/step\n",
            "[0.8463146]\n",
            "1/1 [==============================] - 0s 20ms/step\n",
            "[0.8733531]\n",
            "1/1 [==============================] - 0s 22ms/step\n",
            "[0.8285898]\n",
            "1/1 [==============================] - 0s 23ms/step\n",
            "[0.7223158]\n",
            "1/1 [==============================] - 0s 24ms/step\n",
            "[0.6302659]\n",
            "1/1 [==============================] - 0s 22ms/step\n",
            "[0.56714785]\n",
            "1/1 [==============================] - 0s 21ms/step\n",
            "[0.5129797]\n",
            "1/1 [==============================] - 0s 25ms/step\n",
            "[0.4780201]\n",
            "1/1 [==============================] - 0s 20ms/step\n",
            "[0.47862738]\n",
            "1/1 [==============================] - 0s 21ms/step\n",
            "[0.474215]\n",
            "1/1 [==============================] - 0s 20ms/step\n",
            "[0.5487322]\n",
            "1/1 [==============================] - 0s 24ms/step\n",
            "[0.70955235]\n",
            "1/1 [==============================] - 0s 22ms/step\n",
            "[0.8127384]\n",
            "1/1 [==============================] - 0s 23ms/step\n",
            "[0.8660188]\n",
            "1/1 [==============================] - 0s 20ms/step\n",
            "[0.8610923]\n",
            "1/1 [==============================] - 0s 22ms/step\n",
            "[0.78252435]\n",
            "1/1 [==============================] - 0s 22ms/step\n",
            "[0.6731704]\n",
            "1/1 [==============================] - 0s 21ms/step\n",
            "[0.6002276]\n",
            "1/1 [==============================] - 0s 20ms/step\n",
            "[0.53927046]\n"
          ]
        }
      ],
      "source": [
        "test_pred=[]\n",
        "first_batch=scaledtraindata[-n_inputs:]\n",
        "current_batch=first_batch.reshape(1,n_inputs,n_features)\n",
        "for i in range(len(testdata)):\n",
        "  current_pred=model.predict(current_batch)[0]\n",
        "  print(current_pred)\n",
        "  test_pred.append(current_pred)\n",
        "  current_batch=np.append(current_batch[:,1:,:],[[current_pred]],axis=1)"
      ]
    },
    {
      "cell_type": "code",
      "source": [
        "true_pred=scalar.inverse_transform(test_pred)\n",
        "print(true_pred)\n"
      ],
      "metadata": {
        "id": "_GbJFEg_9pL0",
        "colab": {
          "base_uri": "https://localhost:8080/"
        },
        "outputId": "13353e3f-9efa-4cc0-df92-42ed26e77e6c"
      },
      "execution_count": null,
      "outputs": [
        {
          "output_type": "stream",
          "name": "stdout",
          "text": [
            "[[839.17964709]\n",
            " [820.94497767]\n",
            " [882.49726099]\n",
            " [909.62476838]\n",
            " [936.54154426]\n",
            " [936.82814044]\n",
            " [914.288234  ]\n",
            " [874.42171437]\n",
            " [846.5219239 ]\n",
            " [833.65092176]\n",
            " [816.05657879]\n",
            " [821.33939248]\n",
            " [829.44588697]\n",
            " [822.4063122 ]\n",
            " [864.60123038]\n",
            " [900.93620127]\n",
            " [926.66601598]\n",
            " [935.68323576]\n",
            " [924.80877829]\n",
            " [890.35677123]\n",
            " [861.02566284]\n",
            " [844.0555737 ]\n",
            " [826.58769125]\n",
            " [819.8629083 ]\n",
            " [824.22395459]\n",
            " [822.26053628]\n",
            " [840.99547684]\n",
            " [886.43447453]\n",
            " [916.855726  ]\n",
            " [932.24424791]\n",
            " [931.63450348]\n",
            " [907.5320043 ]\n",
            " [874.52736282]\n",
            " [854.06398988]\n",
            " [836.72902858]\n",
            " [825.19211054]\n",
            " [821.68248805]\n",
            " [823.47823745]\n",
            " [826.53423509]\n",
            " [866.79006422]\n",
            " [904.93279946]\n",
            " [926.22082239]\n",
            " [934.12125832]\n",
            " [921.3566696 ]\n",
            " [890.18565166]\n",
            " [864.24705112]\n",
            " [846.59431297]\n",
            " [831.36969334]\n",
            " [822.38330501]\n",
            " [823.4852635 ]\n",
            " [822.4830333 ]\n",
            " [842.50821376]\n",
            " [888.62819749]\n",
            " [916.95151305]\n",
            " [931.91687572]\n",
            " [930.31473756]\n",
            " [907.2790001 ]\n",
            " [876.43668473]\n",
            " [856.10590035]\n",
            " [839.23785102]\n",
            " [827.48058951]\n",
            " [822.36821356]\n",
            " [823.30151367]\n",
            " [826.91111389]\n",
            " [868.00845551]\n",
            " [904.68380302]\n",
            " [926.12177593]\n",
            " [933.6655215 ]\n",
            " [921.17655337]\n",
            " [891.52610493]\n",
            " [865.84418374]\n",
            " [848.23425043]\n",
            " [833.12133247]\n",
            " [823.3676084 ]\n",
            " [823.53704005]\n",
            " [822.30598524]\n",
            " [843.09628969]\n",
            " [887.965105  ]\n",
            " [916.75401878]\n",
            " [931.61923742]\n",
            " [930.2447598 ]\n",
            " [908.3242929 ]\n",
            " [877.81453818]\n",
            " [857.46349883]\n",
            " [840.45645851]]\n"
          ]
        }
      ]
    },
    {
      "cell_type": "code",
      "source": [
        "inverse_testdata=scalar.inverse_transform(scaledtestdata)\n",
        "print(inverse_testdata)"
      ],
      "metadata": {
        "colab": {
          "base_uri": "https://localhost:8080/"
        },
        "id": "wDsWqEfS-4u-",
        "outputId": "9819d750-ccc4-4a88-a990-e56c039a0562"
      },
      "execution_count": null,
      "outputs": [
        {
          "output_type": "stream",
          "name": "stdout",
          "text": [
            "[[734.]\n",
            " [690.]\n",
            " [785.]\n",
            " [805.]\n",
            " [871.]\n",
            " [845.]\n",
            " [801.]\n",
            " [764.]\n",
            " [725.]\n",
            " [723.]\n",
            " [690.]\n",
            " [734.]\n",
            " [750.]\n",
            " [707.]\n",
            " [807.]\n",
            " [824.]\n",
            " [886.]\n",
            " [859.]\n",
            " [819.]\n",
            " [783.]\n",
            " [740.]\n",
            " [747.]\n",
            " [711.]\n",
            " [751.]\n",
            " [804.]\n",
            " [756.]\n",
            " [860.]\n",
            " [878.]\n",
            " [942.]\n",
            " [913.]\n",
            " [869.]\n",
            " [834.]\n",
            " [790.]\n",
            " [800.]\n",
            " [763.]\n",
            " [800.]\n",
            " [826.]\n",
            " [799.]\n",
            " [890.]\n",
            " [900.]\n",
            " [961.]\n",
            " [935.]\n",
            " [894.]\n",
            " [855.]\n",
            " [809.]\n",
            " [810.]\n",
            " [766.]\n",
            " [805.]\n",
            " [821.]\n",
            " [773.]\n",
            " [883.]\n",
            " [898.]\n",
            " [957.]\n",
            " [924.]\n",
            " [881.]\n",
            " [837.]\n",
            " [784.]\n",
            " [791.]\n",
            " [760.]\n",
            " [802.]\n",
            " [828.]\n",
            " [778.]\n",
            " [889.]\n",
            " [902.]\n",
            " [969.]\n",
            " [947.]\n",
            " [908.]\n",
            " [867.]\n",
            " [815.]\n",
            " [812.]\n",
            " [773.]\n",
            " [813.]\n",
            " [834.]\n",
            " [782.]\n",
            " [892.]\n",
            " [903.]\n",
            " [966.]\n",
            " [937.]\n",
            " [896.]\n",
            " [858.]\n",
            " [817.]\n",
            " [827.]\n",
            " [797.]\n",
            " [843.]\n",
            " [ nan]]\n"
          ]
        }
      ]
    },
    {
      "cell_type": "code",
      "source": [
        "df=pd.DataFrame({'truevalue':inverse_testdata[:,0],'predvalue':true_pred[:,0]})\n",
        "print(df)"
      ],
      "metadata": {
        "colab": {
          "base_uri": "https://localhost:8080/"
        },
        "id": "6_M14KcS_Nu1",
        "outputId": "901f4064-0ad3-429e-f342-6f5fd2baa49a"
      },
      "execution_count": null,
      "outputs": [
        {
          "output_type": "stream",
          "name": "stdout",
          "text": [
            "    truevalue   predvalue\n",
            "0       734.0  839.179647\n",
            "1       690.0  820.944978\n",
            "2       785.0  882.497261\n",
            "3       805.0  909.624768\n",
            "4       871.0  936.541544\n",
            "..        ...         ...\n",
            "80      817.0  930.244760\n",
            "81      827.0  908.324293\n",
            "82      797.0  877.814538\n",
            "83      843.0  857.463499\n",
            "84        NaN  840.456459\n",
            "\n",
            "[85 rows x 2 columns]\n"
          ]
        }
      ]
    },
    {
      "cell_type": "code",
      "source": [
        "plt.plot(df['truevalue'])\n",
        "plt.plot(df['predvalue'])"
      ],
      "metadata": {
        "colab": {
          "base_uri": "https://localhost:8080/",
          "height": 448
        },
        "id": "LNASzAtA_qpc",
        "outputId": "a31f53a0-167a-4069-f8c1-480a18025985"
      },
      "execution_count": null,
      "outputs": [
        {
          "output_type": "execute_result",
          "data": {
            "text/plain": [
              "[<matplotlib.lines.Line2D at 0x7cb126144ac0>]"
            ]
          },
          "metadata": {},
          "execution_count": 84
        },
        {
          "output_type": "display_data",
          "data": {
            "text/plain": [
              "<Figure size 640x480 with 1 Axes>"
            ],
            "image/png": "[encoded data removed]"
          },
          "metadata": {}
        }
      ]
    },
    {
      "cell_type": "code",
      "source": [],
      "metadata": {
        "id": "vcUPlFUB_9O8"
      },
      "execution_count": null,
      "outputs": []
    }
  ],
  "metadata": {
    "colab": {
      "provenance": []
    },
    "kernelspec": {
      "display_name": "Python 3",
      "name": "python3"
    },
    "language_info": {
      "name": "python"
    }
  },
  "nbformat": 4,
  "nbformat_minor": 0
}